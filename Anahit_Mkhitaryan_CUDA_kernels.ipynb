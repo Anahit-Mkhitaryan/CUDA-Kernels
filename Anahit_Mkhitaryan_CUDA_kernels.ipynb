{
  "cells": [
    {
      "cell_type": "code",
      "execution_count": 23,
      "metadata": {
        "colab": {
          "base_uri": "https://localhost:8080/"
        },
        "id": "fgITkC4DoKEn",
        "outputId": "bbc8f91e-07e0-4849-8f1f-57eae2d5abbc"
      },
      "outputs": [
        {
          "name": "stdout",
          "output_type": "stream",
          "text": [
            "Overwriting no_divergence.cu\n"
          ]
        }
      ],
      "source": [
        "%%writefile no_divergence.cu\n",
        "#include <iostream>\n",
        "#include <cuda_runtime.h>\n",
        "\n",
        "#define N 1000000\n",
        "\n",
        "__global__ void no_divergence_kernel(int* data) {\n",
        "    int idx = threadIdx.x + blockIdx.x * blockDim.x;\n",
        "    if (idx < N) {\n",
        "        if (true) {\n",
        "            data[idx] *= 2;\n",
        "        }\n",
        "    }\n",
        "}\n",
        "\n",
        "int main() {\n",
        "    int* h_data = new int[N];\n",
        "    int* d_data;\n",
        "\n",
        "    for (int i = 0; i < N; i++) {\n",
        "        h_data[i] = i + 1;\n",
        "    }\n",
        "\n",
        "    cudaMalloc(&d_data, N * sizeof(int));\n",
        "    cudaMemcpy(d_data, h_data, N * sizeof(int), cudaMemcpyHostToDevice);\n",
        "\n",
        "    dim3 blockSize(256);\n",
        "    dim3 gridSize((N + blockSize.x - 1) / blockSize.x);\n",
        "\n",
        "    cudaEvent_t start, stop;\n",
        "    cudaEventCreate(&start);\n",
        "    cudaEventCreate(&stop);\n",
        "    cudaEventRecord(start);\n",
        "\n",
        "    no_divergence_kernel<<<gridSize, blockSize>>>(d_data);\n",
        "    cudaDeviceSynchronize();\n",
        "\n",
        "    cudaEventRecord(stop);\n",
        "    cudaEventSynchronize(stop);\n",
        "\n",
        "    float ms = 0;\n",
        "    cudaEventElapsedTime(&ms, start, stop);\n",
        "\n",
        "    cudaMemcpy(h_data, d_data, N * sizeof(int), cudaMemcpyDeviceToHost);\n",
        "\n",
        "    std::cout << \"Step 1: No Divergence\\n\";\n",
        "    std::cout << \"Execution Time: \" << ms << \" ms\\n\";\n",
        "    std::cout << \"Output: \" << h_data[0] << \", \" << h_data[1] << \", \" << h_data[2] << \", ...\" << std::endl;\n",
        "\n",
        "    cudaFree(d_data);\n",
        "    delete[] h_data;\n",
        "\n",
        "    return 0;\n",
        "}\n"
      ]
    },
    {
      "cell_type": "code",
      "execution_count": null,
      "metadata": {
        "colab": {
          "base_uri": "https://localhost:8080/"
        },
        "id": "hIjSY5ripQja",
        "outputId": "2f67874f-d7e2-4a28-fa54-81dfbff52121"
      },
      "outputs": [],
      "source": [
        "!nvcc no_divergence.cu -o no_divergence && ./no_divergence"
      ]
    },
    {
      "cell_type": "code",
      "execution_count": 30,
      "metadata": {
        "colab": {
          "base_uri": "https://localhost:8080/"
        },
        "id": "vcd9-Gg-oefq",
        "outputId": "bd041c89-f063-4537-f4c3-f072bf52aeec"
      },
      "outputs": [
        {
          "name": "stdout",
          "output_type": "stream",
          "text": [
            "Overwriting divergence.cu\n"
          ]
        }
      ],
      "source": [
        "%%writefile divergence.cu\n",
        "#include <iostream>\n",
        "#include <cuda_runtime.h>\n",
        "\n",
        "#define N 1000000\n",
        "\n",
        "__global__ void divergence_kernel(int* data) {\n",
        "    int idx = threadIdx.x + blockIdx.x * blockDim.x;\n",
        "    if (idx < N) {\n",
        "        if (idx % 2 == 0) {\n",
        "            data[idx] *= 2;\n",
        "        } else {\n",
        "            data[idx] *= 3;\n",
        "        }\n",
        "    }\n",
        "}\n",
        "\n",
        "int main() {\n",
        "    int* h_data = new int[N];\n",
        "    int* d_data;\n",
        "\n",
        "    for (int i = 0; i < N; i++) {\n",
        "        h_data[i] = i + 1;\n",
        "    }\n",
        "\n",
        "    cudaMalloc(&d_data, N * sizeof(int));\n",
        "    cudaMemcpy(d_data, h_data, N * sizeof(int), cudaMemcpyHostToDevice);\n",
        "\n",
        "    dim3 blockSize(256);\n",
        "    dim3 gridSize((N + blockSize.x - 1) / blockSize.x);\n",
        "\n",
        "    cudaEvent_t start, stop;\n",
        "    cudaEventCreate(&start);\n",
        "    cudaEventCreate(&stop);\n",
        "    cudaEventRecord(start);\n",
        "\n",
        "    divergence_kernel<<<gridSize, blockSize>>>(d_data);\n",
        "    cudaDeviceSynchronize();\n",
        "\n",
        "    cudaEventRecord(stop);\n",
        "    cudaEventSynchronize(stop);\n",
        "\n",
        "    float ms = 0;\n",
        "    cudaEventElapsedTime(&ms, start, stop);\n",
        "\n",
        "    cudaMemcpy(h_data, d_data, N * sizeof(int), cudaMemcpyDeviceToHost);\n",
        "\n",
        "    std::cout << \"Step 2: Divergence\\n\";\n",
        "    std::cout << \"Execution Time: \" << ms << \" ms\\n\";\n",
        "    std::cout << \"Output: \" << h_data[0] << \", \" << h_data[1] << \", \" << h_data[2] << \", ...\" << std::endl;\n",
        "\n",
        "    cudaFree(d_data);\n",
        "    delete[] h_data;\n",
        "\n",
        "    return 0;\n",
        "}\n"
      ]
    },
    {
      "cell_type": "code",
      "execution_count": null,
      "metadata": {
        "colab": {
          "base_uri": "https://localhost:8080/"
        },
        "id": "sqsDh5QTpZH1",
        "outputId": "ce58d592-55f4-4805-b2ae-23e19b8ae556"
      },
      "outputs": [],
      "source": [
        "!nvcc divergence.cu -o divergence && ./divergence"
      ]
    },
    {
      "cell_type": "code",
      "execution_count": 37,
      "metadata": {
        "colab": {
          "base_uri": "https://localhost:8080/"
        },
        "id": "_3N_VhlOokhS",
        "outputId": "977ee2f1-cfa1-48bd-ba4a-a5a2d4665d29"
      },
      "outputs": [
        {
          "name": "stdout",
          "output_type": "stream",
          "text": [
            "Overwriting warp_aligned.cu\n"
          ]
        }
      ],
      "source": [
        "%%writefile warp_aligned.cu\n",
        "#include <iostream>\n",
        "#include <cuda_runtime.h>\n",
        "\n",
        "#define N 1000000\n",
        "\n",
        "__global__ void warp_aligned_kernel(int* data) {\n",
        "    int idx = threadIdx.x + blockIdx.x * blockDim.x;\n",
        "    int warpSize = 32;\n",
        "    if (idx < N) {\n",
        "        if ((idx / warpSize) % 2 == 0) {\n",
        "            data[idx] *= 2;\n",
        "        } else {\n",
        "            data[idx] *= 3;\n",
        "        }\n",
        "    }\n",
        "}\n",
        "\n",
        "int main() {\n",
        "    int* h_data = new int[N];\n",
        "    int* d_data;\n",
        "\n",
        "    for (int i = 0; i < N; i++) {\n",
        "        h_data[i] = i + 1;\n",
        "    }\n",
        "\n",
        "    cudaMalloc(&d_data, N * sizeof(int));\n",
        "    cudaMemcpy(d_data, h_data, N * sizeof(int), cudaMemcpyHostToDevice);\n",
        "\n",
        "    dim3 blockSize(256);\n",
        "    dim3 gridSize((N + blockSize.x - 1) / blockSize.x);\n",
        "\n",
        "    cudaEvent_t start, stop;\n",
        "    cudaEventCreate(&start);\n",
        "    cudaEventCreate(&stop);\n",
        "    cudaEventRecord(start);\n",
        "\n",
        "    warp_aligned_kernel<<<gridSize, blockSize>>>(d_data);\n",
        "    cudaDeviceSynchronize();\n",
        "\n",
        "    cudaEventRecord(stop);\n",
        "    cudaEventSynchronize(stop);\n",
        "\n",
        "    float ms = 0;\n",
        "    cudaEventElapsedTime(&ms, start, stop);\n",
        "\n",
        "    cudaMemcpy(h_data, d_data, N * sizeof(int), cudaMemcpyDeviceToHost);\n",
        "\n",
        "    std::cout << \"Step 3: Warp-Aligned Branching\\n\";\n",
        "    std::cout << \"Execution Time: \" << ms << \" ms\\n\";\n",
        "    std::cout << \"Output: \" << h_data[0] << \", \" << h_data[1] << \", \" << h_data[2] << \", ...\" << std::endl;\n",
        "\n",
        "    cudaFree(d_data);\n",
        "    delete[] h_data;\n",
        "\n",
        "    return 0;\n",
        "}\n",
        "\n"
      ]
    },
    {
      "cell_type": "code",
      "execution_count": null,
      "metadata": {
        "colab": {
          "base_uri": "https://localhost:8080/"
        },
        "id": "KMIl1G7cpbmf",
        "outputId": "be29bb88-045d-4832-bb4c-d61e0cb70252"
      },
      "outputs": [],
      "source": [
        "!nvcc warp_aligned.cu -o warp_aligned && ./warp_aligned"
      ]
    }
  ],
  "metadata": {
    "accelerator": "GPU",
    "colab": {
      "gpuType": "T4",
      "provenance": []
    },
    "kernelspec": {
      "display_name": "Python 3",
      "name": "python3"
    },
    "language_info": {
      "name": "python"
    }
  },
  "nbformat": 4,
  "nbformat_minor": 0
}
